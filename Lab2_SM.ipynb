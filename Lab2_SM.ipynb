{
 "cells": [
  {
   "cell_type": "markdown",
   "id": "9cd078db-8308-4ee7-b967-8a1cdcdde14f",
   "metadata": {},
   "source": [
    "## Пошук розділяючого вектора з опуклої оболонки"
   ]
  },
  {
   "cell_type": "markdown",
   "id": "4679be09-7e57-4326-a419-ad1878cf7545",
   "metadata": {},
   "source": [
    "В першій функції генеруємо дві координати з екпоненційним розподілом та параметром 1, а третю зі стандартним ноормальним розподілом.\n",
    "\n",
    "Друга функція знаходить розділяючий вектор як середнє значення векторів нормалі до площин опуклої оболонки та нормалізує його."
   ]
  },
  {
   "cell_type": "code",
   "execution_count": 1,
   "id": "9ba55cb6-96bb-485d-b831-7c69650aef3e",
   "metadata": {},
   "outputs": [
    {
     "name": "stdout",
     "output_type": "stream",
     "text": [
      "Розділяючий вектор: [-0.65245564 -0.75765526  0.01612889]\n"
     ]
    }
   ],
   "source": [
    "import numpy as np\n",
    "from scipy.spatial import ConvexHull\n",
    "\n",
    "def generate_data(N):\n",
    "    # Генеруємо перші дві координати з параметром 1\n",
    "    X = np.random.exponential(scale=1, size=(N, 2))\n",
    "    # Генеруємо третю координату зі стандартного нормального розподілу\n",
    "    Z = np.random.normal(size=N)\n",
    "    # З'єднуємо всі три координати\n",
    "    data = np.column_stack((X, Z))\n",
    "    return data\n",
    "\n",
    "def cosine_algorithm(data):\n",
    "    # Знаходимо опуклу оболонку\n",
    "    hull = ConvexHull(data)\n",
    "    \n",
    "    # Визначаємо розділяючий вектор як нормалізований вектор нормалі до площини опуклої оболонки\n",
    "    separating_vector = hull.equations[:, :-1].mean(axis=0)\n",
    "    separating_vector /= np.linalg.norm(separating_vector)\n",
    "    \n",
    "    return separating_vector\n",
    "\n",
    "# Генеруємо дані\n",
    "N = 50\n",
    "data = generate_data(N)\n",
    "\n",
    "# Викликаємо алгоритм Козинця\n",
    "separating_vector = cosine_algorithm(data)\n",
    "\n",
    "print(\"Розділяючий вектор:\", separating_vector)\n"
   ]
  }
 ],
 "metadata": {
  "kernelspec": {
   "display_name": "Python 3 (ipykernel)",
   "language": "python",
   "name": "python3"
  },
  "language_info": {
   "codemirror_mode": {
    "name": "ipython",
    "version": 3
   },
   "file_extension": ".py",
   "mimetype": "text/x-python",
   "name": "python",
   "nbconvert_exporter": "python",
   "pygments_lexer": "ipython3",
   "version": "3.11.5"
  }
 },
 "nbformat": 4,
 "nbformat_minor": 5
}
