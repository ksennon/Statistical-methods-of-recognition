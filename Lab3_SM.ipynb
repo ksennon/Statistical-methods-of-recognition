{
 "cells": [
  {
   "cell_type": "markdown",
   "id": "2eb382bf-1a35-4a5e-bd21-caad28e06118",
   "metadata": {},
   "source": [
    "## Алгоритм самонавчання для генерації послідовності та їх оцінка"
   ]
  },
  {
   "cell_type": "markdown",
   "id": "574da7c4-6d1d-44df-a31c-76fe1e43cfbf",
   "metadata": {},
   "source": [
    "Перша функція вілповідає за генерацію послідовності випадкових чисел за змішаним розподілом. Далі використовується метод самонавчання, де вартість ймовірностей та середніх значень оновлюються на кожній ітерації, оптимізуючи їх так, щоб краще відповідати спостережуваній послідовності. Алгоритм зупиняється, коли оцінки параметрів майже не змінюються, і повертає згенеровану послідовність та її оцінки."
   ]
  },
  {
   "cell_type": "code",
   "execution_count": 1,
   "id": "bbea8fa6-98d9-4aa4-89d2-fa0ae2da56b4",
   "metadata": {},
   "outputs": [
    {
     "name": "stdout",
     "output_type": "stream",
     "text": [
      "Значення: (-0.14108814846234702, 3.2808631465562295)\n",
      "Ймовірності: (0.37, 0.63)\n"
     ]
    }
   ],
   "source": [
    "import numpy as np\n",
    "\n",
    "def generate_sequence(n=100):\n",
    "    # Ініціалізація параметрів\n",
    "    a1, a2 = 1, 2  # Початкові припущення для середніх значень\n",
    "    p_k1, p_k2 = 0.5, 0.5  # Початкові ймовірності для станів\n",
    "    variance = 1  # Задана дисперсія\n",
    "\n",
    "    # Генерація n випадкових величин\n",
    "    x = []\n",
    "    for _ in range(n):\n",
    "        if np.random.rand() < 1/3:\n",
    "            # Стан k=1\n",
    "            x.append(np.random.normal(0, np.sqrt(variance)))\n",
    "        else:\n",
    "            # Стан k=2\n",
    "            x.append(np.random.normal(3, np.sqrt(variance)))\n",
    "\n",
    "    # Алгоритм самонавчання\n",
    "    while True:\n",
    "        # Оцінити ймовірності P(k=1) та P(k=2)\n",
    "        p_k1_est = sum([1 for xi in x if xi < 1.5]) / n\n",
    "        p_k2_est = 1 - p_k1_est\n",
    "\n",
    "        # Оновити середні a1 та a2 на основі ймовірностей\n",
    "        a1_est = sum([xi for xi in x if xi < 1.5]) / sum([1 for xi in x if xi < 1.5])\n",
    "        a2_est = sum([xi for xi in x if xi >= 1.5]) / sum([1 for xi in x if xi >= 1.5])\n",
    "\n",
    "        # Перевірити умову зупинки\n",
    "        if abs(a1 - a1_est) < 0.001 and abs(a2 - a2_est) < 0.001 and abs(p_k1 - p_k1_est) < 0.001 and abs(p_k2 - p_k2_est) < 0.001:\n",
    "            break\n",
    "\n",
    "        # Оновити оцінки для наступної ітерації\n",
    "        a1, a2 = a1_est, a2_est\n",
    "        p_k1, p_k2 = p_k1_est, p_k2_est\n",
    "\n",
    "    return x, (a1, a2), (p_k1, p_k2)\n",
    "\n",
    "# Згенерувати послідовність та вивести остаточні оцінки\n",
    "generated_sequence, final_means, final_probabilities = generate_sequence(n=100)\n",
    "print(f\"Значення: {final_means}\\nЙмовірності: {final_probabilities}\")\n"
   ]
  }
 ],
 "metadata": {
  "kernelspec": {
   "display_name": "Python 3 (ipykernel)",
   "language": "python",
   "name": "python3"
  },
  "language_info": {
   "codemirror_mode": {
    "name": "ipython",
    "version": 3
   },
   "file_extension": ".py",
   "mimetype": "text/x-python",
   "name": "python",
   "nbconvert_exporter": "python",
   "pygments_lexer": "ipython3",
   "version": "3.11.5"
  }
 },
 "nbformat": 4,
 "nbformat_minor": 5
}
