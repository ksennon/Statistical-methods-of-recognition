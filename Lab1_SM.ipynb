{
 "cells": [
  {
   "cell_type": "markdown",
   "id": "cfb5236b-9374-4f2f-b9bd-d681159c2551",
   "metadata": {},
   "source": [
    "## Метод 1"
   ]
  },
  {
   "cell_type": "markdown",
   "id": "f24084e7-c3dc-407b-b9ac-c8d56348e7c0",
   "metadata": {},
   "source": [
    "В даному методі використовується байєсівський метод оптимізації, де ми мінімізуємо штрафну функцію та зберігаємо завжди найменше значення функції та зберігаємо q, при якому це значення вийшло."
   ]
  },
  {
   "cell_type": "code",
   "execution_count": 1,
   "id": "0707c851-da03-4678-b2e0-9792888caa56",
   "metadata": {},
   "outputs": [
    {
     "name": "stdout",
     "output_type": "stream",
     "text": [
      "Початкова послідовність: [0 0 1 0 0 0 1 1 0 1]\n",
      "Модифікована послідовність: [0, 1, 1, 0, 1, 0, 1, 1, 0, 0]\n",
      "Штрафна функція для оптимального q: 0\n",
      "Оптимальне значення q: 5\n"
     ]
    }
   ],
   "source": [
    "import numpy as np\n",
    "\n",
    "def penalty_function(q, sequence1, sequence2):\n",
    "    # Розрахунок штрафної функції з параметром q\n",
    "    penalty = (sum(sequence1) - sum(sequence2))**2 * (q - sum(sequence2))**2\n",
    "    return penalty\n",
    "\n",
    "def generate_sequence(length):\n",
    "    # Генеруємо випадкову послідовність з 0 та 1\n",
    "    initial_sequence = np.random.choice([0, 1], size=length)\n",
    "\n",
    "    # Змінюємо кожен елемент з ймовірністю 50%\n",
    "    modified_sequence = [np.random.choice([0, 1], p=[0.5, 0.5]) for _ in range(length)]\n",
    "\n",
    "    return initial_sequence, modified_sequence\n",
    "\n",
    "# Приклад використання\n",
    "sequence_length = 10\n",
    "initial_sequence, modified_sequence = generate_sequence(sequence_length)\n",
    "\n",
    "# Користувацький байєсівський метод\n",
    "best_q = None\n",
    "best_penalty = float('inf')\n",
    "\n",
    "for q_candidate in range(11):\n",
    "    current_penalty = penalty_function(q_candidate, initial_sequence, modified_sequence)\n",
    "    \n",
    "    if current_penalty < best_penalty:\n",
    "        best_penalty = current_penalty\n",
    "        best_q = q_candidate\n",
    "\n",
    "# Вивід результатів\n",
    "print(f\"Початкова послідовність: {initial_sequence}\")\n",
    "print(f\"Модифікована послідовність: {modified_sequence}\")\n",
    "print(f\"Штрафна функція для оптимального q: {best_penalty}\")\n",
    "print(f\"Оптимальне значення q: {best_q}\")\n"
   ]
  },
  {
   "cell_type": "markdown",
   "id": "4287ab65-d7c7-4bc0-9226-27e88a85d9aa",
   "metadata": {},
   "source": [
    "## Метод 2"
   ]
  },
  {
   "cell_type": "markdown",
   "id": "315df6ab-e188-4006-952f-80d30894e427",
   "metadata": {},
   "source": [
    "Основа суть даного числового методу полягає в тому, щоб на кожному кроці оптимізації новий кандидат для оптимальних параметрів знаходився в певних визначених межах. У контексті байєсівської оптимізації, L-BFGS-B використовується як метод локальної оптимізації на кожному кроці ітеративного байєсівського оптимізатора для знаходження найкращих параметрів.\r\n",
    "\r\n",
    "\r\n"
   ]
  },
  {
   "cell_type": "code",
   "execution_count": 2,
   "id": "38b4717f-834c-491f-898f-95106e50b92d",
   "metadata": {},
   "outputs": [
    {
     "name": "stdout",
     "output_type": "stream",
     "text": [
      "Початкова послідовність: [0 1 1 0 0 0 1 0 0 0]\n",
      "Модифікована послідовність: [1, 1, 0, 1, 1, 1, 0, 1, 0, 0]\n",
      "Штрафна функція для оптимального q: 1.4285714285714284\n",
      "Оптимальне значення q: 0.7142857130454141\n"
     ]
    }
   ],
   "source": [
    "import numpy as np\n",
    "from scipy.optimize import minimize\n",
    "\n",
    "def penalty_function(q, sequence1, sequence2):\n",
    "    # Розрахунок штрафної функції з параметром q\n",
    "    penalty = sum((x - y)**2 * (q - y)**2 for x, y in zip(sequence1, sequence2))\n",
    "    return penalty\n",
    "\n",
    "def generate_sequence(length):\n",
    "    # Генеруємо випадкову послідовність з 0 та 1\n",
    "    initial_sequence = np.random.choice([0, 1], size=length)\n",
    "\n",
    "    # Змінюємо кожен елемент з ймовірністю 50%\n",
    "    modified_sequence = [np.random.choice([0, 1], p=[0.5, 0.5]) for _ in range(length)]\n",
    "\n",
    "    return initial_sequence, modified_sequence\n",
    "\n",
    "# Приклад використання\n",
    "sequence_length = 10\n",
    "initial_sequence, modified_sequence = generate_sequence(sequence_length)\n",
    "\n",
    "# Задаємо початкове значення для q\n",
    "initial_q = 0.0\n",
    "\n",
    "# Мінімізуємо штрафну функцію з параметром q\n",
    "result = minimize(penalty_function, initial_q, args=(initial_sequence, modified_sequence), method='L-BFGS-B')\n",
    "\n",
    "# Отримуємо оптимальне значення q\n",
    "optimal_q = result.x[0]\n",
    "\n",
    "# Розраховуємо штрафну функцію для отриманого q\n",
    "optimal_penalty = penalty_function(optimal_q, initial_sequence, modified_sequence)\n",
    "\n",
    "print(f\"Початкова послідовність: {initial_sequence}\")\n",
    "print(f\"Модифікована послідовність: {modified_sequence}\")\n",
    "print(f\"Штрафна функція для оптимального q: {optimal_penalty}\")\n",
    "print(f\"Оптимальне значення q: {optimal_q}\")\n"
   ]
  },
  {
   "cell_type": "markdown",
   "id": "a6bbb325-04a4-4eea-932c-2bc3a3074809",
   "metadata": {},
   "source": [
    "## Метод 3"
   ]
  },
  {
   "cell_type": "markdown",
   "id": "93b66a26-7571-4b76-8965-1410539152d7",
   "metadata": {},
   "source": [
    "Тут використовується метод оптимізації Sequential Model-Based Optimization (SMBO), який реалізований через функцію gp_minimize з бібліотеки scikit-optimize (skopt). Основна ідея SMBO полягає в тому, щоб використовувати гауссівські процеси (Gaussian Processes, GP) для створення ймовірнісних моделей функцій, які оцінюють, наскільки гарно працює кожен варіант параметрів."
   ]
  },
  {
   "cell_type": "code",
   "execution_count": 3,
   "id": "8dd564fa-1d0c-404c-a618-0dbaa97aeccd",
   "metadata": {},
   "outputs": [
    {
     "name": "stdout",
     "output_type": "stream",
     "text": [
      "Iteration No: 1 started. Evaluating function at random point.\n",
      "Iteration No: 1 ended. Evaluation done at random point.\n",
      "Time taken: 0.0010\n",
      "Function value obtained: 3.8629\n",
      "Current minimum: 3.8629\n",
      "Iteration No: 2 started. Evaluating function at random point.\n",
      "Iteration No: 2 ended. Evaluation done at random point.\n",
      "Time taken: 0.0000\n",
      "Function value obtained: 17.3527\n",
      "Current minimum: 3.8629\n",
      "Iteration No: 3 started. Evaluating function at random point.\n",
      "Iteration No: 3 ended. Evaluation done at random point.\n",
      "Time taken: 0.0000\n",
      "Function value obtained: 3.2289\n",
      "Current minimum: 3.2289\n",
      "Iteration No: 4 started. Evaluating function at random point.\n",
      "Iteration No: 4 ended. Evaluation done at random point.\n",
      "Time taken: 0.0000\n",
      "Function value obtained: 0.0010\n",
      "Current minimum: 0.0010\n",
      "Iteration No: 5 started. Evaluating function at random point.\n",
      "Iteration No: 5 ended. Evaluation done at random point.\n",
      "Time taken: 0.0000\n",
      "Function value obtained: 2.3768\n",
      "Current minimum: 0.0010\n",
      "Iteration No: 6 started. Evaluating function at random point.\n",
      "Iteration No: 6 ended. Evaluation done at random point.\n",
      "Time taken: 0.0010\n",
      "Function value obtained: 25.0025\n",
      "Current minimum: 0.0010\n",
      "Iteration No: 7 started. Evaluating function at random point.\n",
      "Iteration No: 7 ended. Evaluation done at random point.\n",
      "Time taken: 0.0000\n",
      "Function value obtained: 1.9811\n",
      "Current minimum: 0.0010\n",
      "Iteration No: 8 started. Evaluating function at random point.\n",
      "Iteration No: 8 ended. Evaluation done at random point.\n",
      "Time taken: 0.0000\n",
      "Function value obtained: 7.0911\n",
      "Current minimum: 0.0010\n",
      "Iteration No: 9 started. Evaluating function at random point.\n",
      "Iteration No: 9 ended. Evaluation done at random point.\n",
      "Time taken: 0.0010\n",
      "Function value obtained: 20.8971\n",
      "Current minimum: 0.0010\n",
      "Iteration No: 10 started. Evaluating function at random point.\n",
      "Iteration No: 10 ended. Evaluation done at random point.\n",
      "Time taken: 0.5830\n",
      "Function value obtained: 0.2590\n",
      "Current minimum: 0.0010\n",
      "Початкова послідовність: [1 0 0 1 1 1 0 1 0 0]\n",
      "Модифікована послідовність: [1, 0, 0, 0, 1, 1, 1, 1, 1, 0]\n",
      "Штрафна функція для оптимального q: 0.0009921504962078621\n",
      "Оптимальне значення q: 6\n"
     ]
    }
   ],
   "source": [
    "import numpy as np\n",
    "from skopt import gp_minimize\n",
    "from skopt.space import Real\n",
    "from skopt import space\n",
    "\n",
    "\n",
    "def penalty_function(q, sequence1, sequence2):\n",
    "    # Розрахунок штрафної функції з параметром q\n",
    "    penalty = (sum(sequence1) - sum(sequence2))**2 * (q - sum(sequence2))**2\n",
    "    return penalty\n",
    "\n",
    "\n",
    "def generate_sequence(length):\n",
    "    # Генеруємо випадкову послідовність з 0 та 1\n",
    "    initial_sequence = np.random.choice([0, 1], size=length)\n",
    "\n",
    "    # Змінюємо кожен елемент з ймовірністю 50%\n",
    "    modified_sequence = [np.random.choice([0, 1], p=[0.5, 0.5]) for _ in range(length)]\n",
    "\n",
    "    return initial_sequence, modified_sequence\n",
    "\n",
    "# Приклад використання\n",
    "sequence_length = 10\n",
    "initial_sequence, modified_sequence = generate_sequence(sequence_length)\n",
    "\n",
    "# Задаємо простір пошуку для q\n",
    "space = [Real(0.0, 10.0, name='q')]  # Replace 1 and 10 with your desired range for q\n",
    "\n",
    "# Оптимізуємо штрафну функцію з параметром q за допомогою SMBO\n",
    "result = gp_minimize(\n",
    "    lambda q: penalty_function(q[0], initial_sequence, modified_sequence),\n",
    "    space,\n",
    "    n_calls=10,\n",
    "    random_state=42,\n",
    "    verbose=1\n",
    ")\n",
    "\n",
    "# Отримуємо оптимальне значення q\n",
    "optimal_q = result.x[0]\n",
    "\n",
    "# Розраховуємо штрафну функцію для отриманого q\n",
    "optimal_penalty = penalty_function(optimal_q, initial_sequence, modified_sequence)\n",
    "\n",
    "print(f\"Початкова послідовність: {initial_sequence}\")\n",
    "print(f\"Модифікована послідовність: {modified_sequence}\")\n",
    "print(f\"Штрафна функція для оптимального q: {optimal_penalty}\")\n",
    "print(f\"Оптимальне значення q: {round(optimal_q)}\")"
   ]
  }
 ],
 "metadata": {
  "kernelspec": {
   "display_name": "Python 3 (ipykernel)",
   "language": "python",
   "name": "python3"
  },
  "language_info": {
   "codemirror_mode": {
    "name": "ipython",
    "version": 3
   },
   "file_extension": ".py",
   "mimetype": "text/x-python",
   "name": "python",
   "nbconvert_exporter": "python",
   "pygments_lexer": "ipython3",
   "version": "3.11.5"
  }
 },
 "nbformat": 4,
 "nbformat_minor": 5
}
